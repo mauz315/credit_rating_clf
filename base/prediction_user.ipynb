{
 "cells": [
  {
   "cell_type": "markdown",
   "metadata": {},
   "source": [
    "# Predicción de Ratings Corporativos"
   ]
  },
  {
   "cell_type": "markdown",
   "metadata": {},
   "source": [
    "## 1. Importando librerías necesarias y rutas de archivos"
   ]
  },
  {
   "cell_type": "code",
   "execution_count": 3,
   "metadata": {},
   "outputs": [],
   "source": [
    "import pandas as pd\n",
    "import joblib\n",
    "from rating_functions import rating_prediction\n",
    "from lime_explainer import explain_tree"
   ]
  },
  {
   "cell_type": "code",
   "execution_count": 4,
   "metadata": {},
   "outputs": [],
   "source": [
    "feat_key = pd.read_csv('data/features.csv', sep=',', index_col = [\"Feature\"], encoding = \"latin1\")\n",
    "le = pd.read_csv('data/lab_encoder.csv', sep=',', index_col = 0, encoding = \"latin1\")\n",
    "model_file = 'model/actual_rf_em.sav' # Modelo.\n",
    "model_pure_file = 'model/rating_random_forest_pure.sav' # Modelo.\n",
    "train_set = 'explainer/X_train_actual.sav'\n",
    "sov_encoder_file = 'model/sov_lab_encoder_em.sav' # Encoder de rating soberano."
   ]
  },
  {
   "cell_type": "markdown",
   "metadata": {},
   "source": [
    "## 2. Cargando modelos"
   ]
  },
  {
   "cell_type": "code",
   "execution_count": 5,
   "metadata": {},
   "outputs": [
    {
     "name": "stderr",
     "output_type": "stream",
     "text": [
      "C:\\ProgramData\\Anaconda3\\lib\\site-packages\\sklearn\\base.py:306: UserWarning: Trying to unpickle estimator DecisionTreeClassifier from version 0.19.1 when using version 0.21.2. This might lead to breaking code or invalid results. Use at your own risk.\n",
      "  UserWarning)\n",
      "C:\\ProgramData\\Anaconda3\\lib\\site-packages\\sklearn\\externals\\joblib\\__init__.py:15: DeprecationWarning: sklearn.externals.joblib is deprecated in 0.21 and will be removed in 0.23. Please import this functionality directly from joblib, which can be installed with: pip install joblib. If this warning is raised when loading pickled models, you may need to re-serialize those models with scikit-learn 0.21+.\n",
      "  warnings.warn(msg, category=DeprecationWarning)\n",
      "C:\\ProgramData\\Anaconda3\\lib\\site-packages\\sklearn\\base.py:306: UserWarning: Trying to unpickle estimator RandomForestClassifier from version 0.19.1 when using version 0.21.2. This might lead to breaking code or invalid results. Use at your own risk.\n",
      "  UserWarning)\n"
     ]
    }
   ],
   "source": [
    "rf = joblib.load(model_file)\n",
    "rf_pure = joblib.load(model_pure_file)\n",
    "X_train = joblib.load(train_set)\n",
    "sov_lab_encoder = joblib.load(sov_encoder_file)"
   ]
  },
  {
   "cell_type": "markdown",
   "metadata": {},
   "source": [
    "## 3. Archivos de input y output"
   ]
  },
  {
   "cell_type": "code",
   "execution_count": 6,
   "metadata": {},
   "outputs": [],
   "source": [
    "data = pd.read_csv('input/rating_pred_latam.csv', sep=',', index_col = [\"Indicadores\"], encoding = \"latin1\")\n",
    "output_pred = 'output/latam_actual.csv'"
   ]
  },
  {
   "cell_type": "markdown",
   "metadata": {},
   "source": [
    "## 4. Predicción y resultado"
   ]
  },
  {
   "cell_type": "code",
   "execution_count": 7,
   "metadata": {},
   "outputs": [
    {
     "name": "stdout",
     "output_type": "stream",
     "text": [
      "Predicción Rating:\n",
      "\n",
      "   Periodo Rating Predicc Rating Local Trad\n",
      "0     2T17             BB               AAA\n",
      "1     3T17             BB               AAA\n",
      "2     4T17             BB               AAA\n",
      "3     1T18             BB               AAA\n",
      "4     2T18             BB               AAA\n",
      "5     3T18            BBB               AAA\n",
      "6     4T18            BBB               AAA\n",
      "7     1T19             BB               AAA\n",
      "8     2T19            BBB               AAA\n",
      "9     3T19            BBB               AAA\n",
      "10    4T19             BB               AAA\n",
      "11    1T20             BB               AAA\n",
      "12    2T20            BBB               AAA\n",
      "13    3T20            BB+               AAA\n",
      "14    4T20             BB               AAA\n",
      "15    1T21             BB               AA+\n",
      "16    2T21             BB               AAA\n",
      "17    3T21             BB                A+\n",
      "18    4T21            BB+               AAA\n",
      "19    1T22            BB+               AAA\n",
      "20    2T22            BB+               AAA\n",
      "21    3T22           BBB-               AA+\n",
      "22    4T22            BB+               AAA\n",
      "23    1T23             BB               AAA\n",
      "24    2T23            BBB               AAA\n",
      "25    3T23            BB+               AAA\n",
      "26    4T23            BB+               AAA\n",
      "27    1T24           BBB+               AAA\n",
      "28    2T24            BB+               AAA\n",
      "29    3T24            BB+               AAA\n",
      "30    4T24            BB+               AA+\n",
      "31    1T25           BBB+               AA+\n",
      "32    2T25            BB+               AA+\n",
      "33    3T25            BB+               AA+\n",
      "34    4T25            BB+               AA+\n",
      "35    1T26           BBB+               AA+\n",
      "36    2T26            BB+               AA+\n",
      "37    3T26            BBB               AAA\n",
      "38    4T26            BBB               AA+\n",
      "39    1T27           BBB+               AA+\n",
      "40    2T27           BBB+               AA+\n",
      "41    3T27            BB+                AA\n",
      "42    4T27           BBB-                AA\n",
      "43    1T28           BBB-                AA\n",
      "44    2T28              A                A+\n",
      "45    3T28            BB+               AAA\n",
      "46    4T28            BB+               AA+\n"
     ]
    }
   ],
   "source": [
    "rating_prediction(data, rf, rf_pure, feat_key, le, sov_lab_encoder, output_pred)"
   ]
  },
  {
   "cell_type": "markdown",
   "metadata": {},
   "source": [
    "## 5. Explicación de resultados"
   ]
  },
  {
   "cell_type": "code",
   "execution_count": 8,
   "metadata": {},
   "outputs": [],
   "source": [
    "lime_explain = True # Prender/apagar el explainer\n",
    "print_exp = False # Print importancias de variables\n",
    "period = 0 # Periodo a explicar (ej. '4T18', '2T18')\n",
    "ratings = 2 # Número de ratings"
   ]
  },
  {
   "cell_type": "code",
   "execution_count": 9,
   "metadata": {},
   "outputs": [],
   "source": [
    "if lime_explain:\n",
    "    # Crea el archivo /explainer/lime_output.html\n",
    "   explain_tree(data, period, ratings, rf, X_train, sov_lab_encoder, \n",
    "                le, feat_key, print_exp)"
   ]
  }
 ],
 "metadata": {
  "kernelspec": {
   "display_name": "Python 3",
   "language": "python",
   "name": "python3"
  },
  "language_info": {
   "codemirror_mode": {
    "name": "ipython",
    "version": 3
   },
   "file_extension": ".py",
   "mimetype": "text/x-python",
   "name": "python",
   "nbconvert_exporter": "python",
   "pygments_lexer": "ipython3",
   "version": "3.7.3"
  }
 },
 "nbformat": 4,
 "nbformat_minor": 2
}
